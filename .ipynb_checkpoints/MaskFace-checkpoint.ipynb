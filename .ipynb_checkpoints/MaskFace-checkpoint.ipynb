{
 "cells": [
  {
   "cell_type": "code",
   "execution_count": 1,
   "id": "5848180a",
   "metadata": {},
   "outputs": [],
   "source": [
    "OFFSET = 1 # What is the ID of the first paperclip generated\n",
    "COUNT  = 3 # How many paperclips to generate"
   ]
  },
  {
   "cell_type": "code",
   "execution_count": 2,
   "id": "51eb05f5",
   "metadata": {},
   "outputs": [],
   "source": [
    "import PIL\n",
    "from PIL import Image\n",
    "from random import randint\n",
    "import pandas as pd\n",
    "import requests\n",
    "from io import BytesIO\n",
    "import zipfile"
   ]
  },
  {
   "cell_type": "code",
   "execution_count": 3,
   "id": "8784a196",
   "metadata": {},
   "outputs": [],
   "source": [
    "response_paperclip = requests.get(\"https://www.lesouffle.org/wp-content/uploads/2020/04/protective-mask-5006098_1920.png\")\n",
    "paperclip = Image.open(BytesIO(response_paperclip.content))\n"
   ]
  },
  {
   "cell_type": "code",
   "execution_count": 4,
   "id": "94020710",
   "metadata": {},
   "outputs": [],
   "source": [
    "response_background = requests.get(\"https://www.pngfind.com/pngs/m/4-48198_business-man-business-man-face-png-transparent-png.png\")\n",
    "background = Image.open(BytesIO(response_background.content))"
   ]
  },
  {
   "cell_type": "code",
   "execution_count": 5,
   "id": "4d6c374b",
   "metadata": {},
   "outputs": [],
   "source": [
    "background = background.resize((256,256),resample=PIL.Image.LANCZOS)\n"
   ]
  },
  {
   "cell_type": "code",
   "execution_count": null,
   "id": "a1f433fa",
   "metadata": {},
   "outputs": [],
   "source": [
    "# Keep the apsect ratio of the paperclips when they are scaled\n",
    "aspect = paperclip.width/paperclip.height\n",
    "clip_count = []\n",
    "\n",
    "# We will output to a ZIP file that can be easily downloaded\n",
    "z = zipfile.ZipFile('./mask/clips.zip', 'w', zipfile.ZIP_DEFLATED)\n",
    "\n",
    "for c in range(COUNT):\n",
    "    render_img = background.copy()\n",
    "    cnt = randint(0,75)\n",
    "    clip_count.append(cnt)\n",
    "    for i in range(cnt):\n",
    "        a = randint(0,360)\n",
    "        clip_size = randint(30,60)\n",
    "        w = int(clip_size*aspect)\n",
    "\n",
    "        paperclip2 = paperclip.resize((w,clip_size),resample=PIL.Image.LANCZOS)\n",
    "\n",
    "\n",
    "        x = randint(-int(paperclip2.width/2),background.width - int(paperclip2.width/2))\n",
    "        y = randint(-int(paperclip2.height/2),background.height - int(paperclip2.height/2))\n",
    "\n",
    "        paperclip2 = PIL.Image.Image.rotate(paperclip2,a,resample=PIL.Image.BICUBIC,expand=True)\n",
    "\n",
    "\n",
    "        render_img.paste(paperclip2,(x,y),paperclip2)\n",
    "\n",
    "    image_file = BytesIO()\n",
    "    render_img.save(image_file, 'PNG')\n",
    "    z.writestr(f'clips-{c+OFFSET}.png', image_file.getvalue())"
   ]
  },
  {
   "cell_type": "code",
   "execution_count": null,
   "id": "ea7979ca",
   "metadata": {},
   "outputs": [],
   "source": [
    "df = pd.DataFrame( {'id':range(OFFSET,len(clip_count)+OFFSET),'clip_count':clip_count})\n",
    "z.writestr('master.csv', df.to_csv(index=False))\n",
    "z.close()\n",
    "print(\"done\")\n",
    "\n",
    "df"
   ]
  },
  {
   "cell_type": "code",
   "execution_count": null,
   "id": "57af0dcb",
   "metadata": {},
   "outputs": [],
   "source": []
  }
 ],
 "metadata": {
  "kernelspec": {
   "display_name": "Python 3 (ipykernel)",
   "language": "python",
   "name": "python3"
  },
  "language_info": {
   "codemirror_mode": {
    "name": "ipython",
    "version": 3
   },
   "file_extension": ".py",
   "mimetype": "text/x-python",
   "name": "python",
   "nbconvert_exporter": "python",
   "pygments_lexer": "ipython3",
   "version": "3.9.7"
  }
 },
 "nbformat": 4,
 "nbformat_minor": 5
}
