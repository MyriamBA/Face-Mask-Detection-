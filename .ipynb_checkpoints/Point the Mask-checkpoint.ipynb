{
 "cells": [
  {
   "cell_type": "code",
   "execution_count": 3,
   "id": "0128dcfc",
   "metadata": {},
   "outputs": [],
   "source": [
    "from tkinter import filedialog\n",
    "from tkinter import *\n",
    "import cv2, os"
   ]
  },
  {
   "cell_type": "code",
   "execution_count": 4,
   "id": "83bc6561",
   "metadata": {},
   "outputs": [],
   "source": [
    "mouse_pts = []\n"
   ]
  },
  {
   "cell_type": "code",
   "execution_count": 5,
   "id": "4803d54c",
   "metadata": {},
   "outputs": [],
   "source": [
    "def get_mouse_points(event, x, y, flags, param):\n",
    "    global mouseX, mouseY, mouse_pts\n",
    "    if event == cv2.EVENT_LBUTTONDOWN:\n",
    "        mouseX, mouseY = x, y\n",
    "        cv2.circle(mask_im, (x, y), 10, (0, 255, 255), 10)\n",
    "        if \"mouse_pts\" not in globals():\n",
    "            mouse_pts = []\n",
    "        mouse_pts.append((x, y));\n",
    "        #print(\"Point detected\");\n",
    "        #print((x,y));"
   ]
  },
  {
   "cell_type": "code",
   "execution_count": 6,
   "id": "322e20ce",
   "metadata": {},
   "outputs": [],
   "source": [
    "root = Tk()\n",
    "filename = filedialog.askopenfilename(\n",
    "    initialdir=\"/\",\n",
    "    title=\"Select file\",\n",
    "    filetypes=((\"PNG files\", \"*.PNG\"),(\"JPG files\", \"*.JPG\"),(\"jpg files\", \"*.jpg\"), (\"png files\", \"*.png\"), (\"All files\", \"*.*\")),\n",
    ")\n",
    "root.destroy()\n",
    "filename_split = os.path.split(filename)\n",
    "folder = filename_split[0]\n",
    "file = filename_split[1]\n",
    "file_split = file.split(\".\")\n",
    "new_filename = folder + \"/\" + file_split[0] + \"_marked.\" + file_split[-1]\n",
    "mask_im = cv2.imread(filename)\n",
    "cv2.namedWindow(\"Mask\")\n",
    "cv2.setMouseCallback(\"Mask\", get_mouse_points)"
   ]
  },
  {
   "cell_type": "code",
   "execution_count": null,
   "id": "57f580c2",
   "metadata": {},
   "outputs": [],
   "source": []
  }
 ],
 "metadata": {
  "kernelspec": {
   "display_name": "Python 3 (ipykernel)",
   "language": "python",
   "name": "python3"
  },
  "language_info": {
   "codemirror_mode": {
    "name": "ipython",
    "version": 3
   },
   "file_extension": ".py",
   "mimetype": "text/x-python",
   "name": "python",
   "nbconvert_exporter": "python",
   "pygments_lexer": "ipython3",
   "version": "3.9.7"
  }
 },
 "nbformat": 4,
 "nbformat_minor": 5
}
